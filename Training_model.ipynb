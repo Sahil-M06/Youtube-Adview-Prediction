{
 "cells": [
  {
   "cell_type": "raw",
   "id": "8a2da87e-4128-4945-98e7-5b084ea23592",
   "metadata": {},
   "source": [
    "Importing essential libraries"
   ]
  },
  {
   "cell_type": "code",
   "execution_count": 1,
   "id": "c0ce6f23-2ecf-467a-8956-8f7f5fd4d36c",
   "metadata": {},
   "outputs": [],
   "source": [
    "import pandas as pd\n",
    "import matplotlib.pyplot as plt\n",
    "import seaborn as sns\n",
    "import numpy as np"
   ]
  },
  {
   "cell_type": "markdown",
   "id": "96225b39-9531-4d40-baff-807c4e00b47d",
   "metadata": {},
   "source": [
    "The data file \"Train.csv\" is loaded\n"
   ]
  },
  {
   "cell_type": "code",
   "execution_count": 2,
   "id": "93b8e232-419d-49a6-9c2b-dd5aeb8c3a8e",
   "metadata": {},
   "outputs": [],
   "source": [
    "dataset= pd.read_csv(\"train.csv\")"
   ]
  },
  {
   "cell_type": "markdown",
   "id": "fb301a90-0c34-4c7c-895b-96af858e3914",
   "metadata": {},
   "source": [
    "Data Exploration and Preprocessing"
   ]
  },
  {
   "cell_type": "code",
   "execution_count": 3,
   "id": "a835e2bd-509b-43b4-b864-0a6d083fca40",
   "metadata": {},
   "outputs": [
    {
     "data": {
      "text/html": [
       "<div>\n",
       "<style scoped>\n",
       "    .dataframe tbody tr th:only-of-type {\n",
       "        vertical-align: middle;\n",
       "    }\n",
       "\n",
       "    .dataframe tbody tr th {\n",
       "        vertical-align: top;\n",
       "    }\n",
       "\n",
       "    .dataframe thead th {\n",
       "        text-align: right;\n",
       "    }\n",
       "</style>\n",
       "<table border=\"1\" class=\"dataframe\">\n",
       "  <thead>\n",
       "    <tr style=\"text-align: right;\">\n",
       "      <th></th>\n",
       "      <th>vidid</th>\n",
       "      <th>adview</th>\n",
       "      <th>views</th>\n",
       "      <th>likes</th>\n",
       "      <th>dislikes</th>\n",
       "      <th>comment</th>\n",
       "      <th>published</th>\n",
       "      <th>duration</th>\n",
       "      <th>category</th>\n",
       "    </tr>\n",
       "  </thead>\n",
       "  <tbody>\n",
       "    <tr>\n",
       "      <th>0</th>\n",
       "      <td>VID_18655</td>\n",
       "      <td>40</td>\n",
       "      <td>1031602</td>\n",
       "      <td>8523</td>\n",
       "      <td>363</td>\n",
       "      <td>1095</td>\n",
       "      <td>2016-09-14</td>\n",
       "      <td>PT7M37S</td>\n",
       "      <td>F</td>\n",
       "    </tr>\n",
       "    <tr>\n",
       "      <th>1</th>\n",
       "      <td>VID_14135</td>\n",
       "      <td>2</td>\n",
       "      <td>1707</td>\n",
       "      <td>56</td>\n",
       "      <td>2</td>\n",
       "      <td>6</td>\n",
       "      <td>2016-10-01</td>\n",
       "      <td>PT9M30S</td>\n",
       "      <td>D</td>\n",
       "    </tr>\n",
       "    <tr>\n",
       "      <th>2</th>\n",
       "      <td>VID_2187</td>\n",
       "      <td>1</td>\n",
       "      <td>2023</td>\n",
       "      <td>25</td>\n",
       "      <td>0</td>\n",
       "      <td>2</td>\n",
       "      <td>2016-07-02</td>\n",
       "      <td>PT2M16S</td>\n",
       "      <td>C</td>\n",
       "    </tr>\n",
       "    <tr>\n",
       "      <th>3</th>\n",
       "      <td>VID_23096</td>\n",
       "      <td>6</td>\n",
       "      <td>620860</td>\n",
       "      <td>777</td>\n",
       "      <td>161</td>\n",
       "      <td>153</td>\n",
       "      <td>2016-07-27</td>\n",
       "      <td>PT4M22S</td>\n",
       "      <td>H</td>\n",
       "    </tr>\n",
       "    <tr>\n",
       "      <th>4</th>\n",
       "      <td>VID_10175</td>\n",
       "      <td>1</td>\n",
       "      <td>666</td>\n",
       "      <td>1</td>\n",
       "      <td>0</td>\n",
       "      <td>0</td>\n",
       "      <td>2016-06-29</td>\n",
       "      <td>PT31S</td>\n",
       "      <td>D</td>\n",
       "    </tr>\n",
       "    <tr>\n",
       "      <th>5</th>\n",
       "      <td>VID_10756</td>\n",
       "      <td>4</td>\n",
       "      <td>78</td>\n",
       "      <td>0</td>\n",
       "      <td>0</td>\n",
       "      <td>0</td>\n",
       "      <td>2016-05-09</td>\n",
       "      <td>PT15S</td>\n",
       "      <td>D</td>\n",
       "    </tr>\n",
       "    <tr>\n",
       "      <th>6</th>\n",
       "      <td>VID_9782</td>\n",
       "      <td>40621</td>\n",
       "      <td>43118</td>\n",
       "      <td>15</td>\n",
       "      <td>1</td>\n",
       "      <td>0</td>\n",
       "      <td>2015-08-21</td>\n",
       "      <td>PT3M20S</td>\n",
       "      <td>D</td>\n",
       "    </tr>\n",
       "    <tr>\n",
       "      <th>7</th>\n",
       "      <td>VID_16452</td>\n",
       "      <td>1</td>\n",
       "      <td>14205</td>\n",
       "      <td>55</td>\n",
       "      <td>16</td>\n",
       "      <td>1</td>\n",
       "      <td>2016-08-01</td>\n",
       "      <td>PT58S</td>\n",
       "      <td>E</td>\n",
       "    </tr>\n",
       "    <tr>\n",
       "      <th>8</th>\n",
       "      <td>VID_18486</td>\n",
       "      <td>1</td>\n",
       "      <td>526015</td>\n",
       "      <td>3064</td>\n",
       "      <td>211</td>\n",
       "      <td>2582</td>\n",
       "      <td>2015-11-06</td>\n",
       "      <td>PT27M50S</td>\n",
       "      <td>F</td>\n",
       "    </tr>\n",
       "    <tr>\n",
       "      <th>9</th>\n",
       "      <td>VID_681</td>\n",
       "      <td>1</td>\n",
       "      <td>406992</td>\n",
       "      <td>3831</td>\n",
       "      <td>310</td>\n",
       "      <td>7839</td>\n",
       "      <td>2016-10-03</td>\n",
       "      <td>PT11M19S</td>\n",
       "      <td>B</td>\n",
       "    </tr>\n",
       "  </tbody>\n",
       "</table>\n",
       "</div>"
      ],
      "text/plain": [
       "       vidid  adview    views likes dislikes comment   published  duration  \\\n",
       "0  VID_18655      40  1031602  8523      363    1095  2016-09-14   PT7M37S   \n",
       "1  VID_14135       2     1707    56        2       6  2016-10-01   PT9M30S   \n",
       "2   VID_2187       1     2023    25        0       2  2016-07-02   PT2M16S   \n",
       "3  VID_23096       6   620860   777      161     153  2016-07-27   PT4M22S   \n",
       "4  VID_10175       1      666     1        0       0  2016-06-29     PT31S   \n",
       "5  VID_10756       4       78     0        0       0  2016-05-09     PT15S   \n",
       "6   VID_9782   40621    43118    15        1       0  2015-08-21   PT3M20S   \n",
       "7  VID_16452       1    14205    55       16       1  2016-08-01     PT58S   \n",
       "8  VID_18486       1   526015  3064      211    2582  2015-11-06  PT27M50S   \n",
       "9    VID_681       1   406992  3831      310    7839  2016-10-03  PT11M19S   \n",
       "\n",
       "  category  \n",
       "0        F  \n",
       "1        D  \n",
       "2        C  \n",
       "3        H  \n",
       "4        D  \n",
       "5        D  \n",
       "6        D  \n",
       "7        E  \n",
       "8        F  \n",
       "9        B  "
      ]
     },
     "execution_count": 3,
     "metadata": {},
     "output_type": "execute_result"
    }
   ],
   "source": [
    "dataset.head(10)"
   ]
  },
  {
   "cell_type": "code",
   "execution_count": 4,
   "id": "f7b57f8a-5530-4432-a8fa-ea6906f4f558",
   "metadata": {},
   "outputs": [
    {
     "data": {
      "text/plain": [
       "(14999, 9)"
      ]
     },
     "execution_count": 4,
     "metadata": {},
     "output_type": "execute_result"
    }
   ],
   "source": [
    "dataset.shape\n"
   ]
  },
  {
   "cell_type": "code",
   "execution_count": 5,
   "id": "9d568ba9-f603-4126-9273-a756d584d276",
   "metadata": {},
   "outputs": [
    {
     "data": {
      "text/plain": [
       "Index(['vidid', 'adview', 'views', 'likes', 'dislikes', 'comment', 'published',\n",
       "       'duration', 'category'],\n",
       "      dtype='object')"
      ]
     },
     "execution_count": 5,
     "metadata": {},
     "output_type": "execute_result"
    }
   ],
   "source": [
    "dataset.columns"
   ]
  },
  {
   "cell_type": "code",
   "execution_count": 6,
   "id": "738f9fc2-28f2-436d-bee5-aff5fcb06967",
   "metadata": {},
   "outputs": [
    {
     "name": "stdout",
     "output_type": "stream",
     "text": [
      "<class 'pandas.core.frame.DataFrame'>\n",
      "RangeIndex: 14999 entries, 0 to 14998\n",
      "Data columns (total 9 columns):\n",
      " #   Column     Non-Null Count  Dtype \n",
      "---  ------     --------------  ----- \n",
      " 0   vidid      14999 non-null  object\n",
      " 1   adview     14999 non-null  int64 \n",
      " 2   views      14999 non-null  object\n",
      " 3   likes      14999 non-null  object\n",
      " 4   dislikes   14999 non-null  object\n",
      " 5   comment    14999 non-null  object\n",
      " 6   published  14999 non-null  object\n",
      " 7   duration   14999 non-null  object\n",
      " 8   category   14999 non-null  object\n",
      "dtypes: int64(1), object(8)\n",
      "memory usage: 1.0+ MB\n"
     ]
    }
   ],
   "source": [
    "dataset.info()"
   ]
  },
  {
   "cell_type": "code",
   "execution_count": 7,
   "id": "9987b778-ba58-40ed-a507-04ad68533641",
   "metadata": {},
   "outputs": [
    {
     "data": {
      "text/plain": [
       "vidid        object\n",
       "adview        int64\n",
       "views        object\n",
       "likes        object\n",
       "dislikes     object\n",
       "comment      object\n",
       "published    object\n",
       "duration     object\n",
       "category     object\n",
       "dtype: object"
      ]
     },
     "execution_count": 7,
     "metadata": {},
     "output_type": "execute_result"
    }
   ],
   "source": [
    "dataset.dtypes"
   ]
  },
  {
   "cell_type": "code",
   "execution_count": 8,
   "id": "d86fb75b-7c52-42cb-8364-95e83cc8b688",
   "metadata": {},
   "outputs": [],
   "source": [
    "#some integer columns are of object type(like views ,comment etc) so they are converted to integer first\n",
    "\n",
    "dataset['views']=[int(i) if i.isnumeric() else np.NaN for i in dataset['views'] ]\n",
    "dataset['likes']=pd.Series([int(i) if i.isnumeric() else np.NaN for i in dataset['likes'] ])\n",
    "dataset['dislikes']=[int(i) if i.isnumeric() else np.NaN for i in dataset['dislikes'] ]\n",
    "dataset['comment']=[int(i) if i.isnumeric() else np.NaN for i in dataset['comment'] ]"
   ]
  },
  {
   "cell_type": "code",
   "execution_count": 9,
   "id": "4849aa2f-0087-4a9d-a938-7c90a55eee26",
   "metadata": {},
   "outputs": [
    {
     "data": {
      "text/plain": [
       "vidid         object\n",
       "adview         int64\n",
       "views        float64\n",
       "likes        float64\n",
       "dislikes     float64\n",
       "comment      float64\n",
       "published     object\n",
       "duration      object\n",
       "category      object\n",
       "dtype: object"
      ]
     },
     "execution_count": 9,
     "metadata": {},
     "output_type": "execute_result"
    }
   ],
   "source": [
    "dataset.dtypes\n",
    "\n",
    "#datatypes of numeric columns are corrected"
   ]
  },
  {
   "cell_type": "code",
   "execution_count": 10,
   "id": "392687a1-2937-43a9-a6a0-8ea6dacb4634",
   "metadata": {},
   "outputs": [
    {
     "name": "stdout",
     "output_type": "stream",
     "text": [
      "<class 'pandas.core.frame.DataFrame'>\n",
      "RangeIndex: 14999 entries, 0 to 14998\n",
      "Data columns (total 9 columns):\n",
      " #   Column     Non-Null Count  Dtype  \n",
      "---  ------     --------------  -----  \n",
      " 0   vidid      14999 non-null  object \n",
      " 1   adview     14999 non-null  int64  \n",
      " 2   views      14997 non-null  float64\n",
      " 3   likes      14844 non-null  float64\n",
      " 4   dislikes   14844 non-null  float64\n",
      " 5   comment    14766 non-null  float64\n",
      " 6   published  14999 non-null  object \n",
      " 7   duration   14999 non-null  object \n",
      " 8   category   14999 non-null  object \n",
      "dtypes: float64(4), int64(1), object(4)\n",
      "memory usage: 1.0+ MB\n"
     ]
    }
   ],
   "source": [
    "dataset.info()\n",
    "\n",
    "#There are some null values in data now \n",
    "#the null values were created when the numeric columns of object datatype were converted into numeric datatype but the cell had no numeric value\n",
    "#for cell which had non numeric values like alphabets,special character etc were assigned null values"
   ]
  },
  {
   "cell_type": "code",
   "execution_count": 11,
   "id": "24ae8aed-ca2c-4830-8d37-1233d7f32fcd",
   "metadata": {},
   "outputs": [
    {
     "name": "stdout",
     "output_type": "stream",
     "text": [
      "Loss of data = (14999-14637)/14999) x 100% = 2.4134942329488633 %\n"
     ]
    }
   ],
   "source": [
    "#Since the size of Data is very large (14999) and rows with null values are very low it is better to drop them \n",
    "dataset=dataset.dropna(axis=0)\n",
    "dataset.shape\n",
    "\n",
    "print(\"Loss of data = (14999-14637)/14999) x 100% =\",(14999-14637)/14999 * 100,\"%\")"
   ]
  },
  {
   "cell_type": "code",
   "execution_count": 12,
   "id": "0468e1c8-1380-4b90-9fca-6021c00321bb",
   "metadata": {},
   "outputs": [
    {
     "data": {
      "text/plain": [
       "0"
      ]
     },
     "execution_count": 12,
     "metadata": {},
     "output_type": "execute_result"
    }
   ],
   "source": [
    "dataset.duplicated().sum()\n",
    "\n",
    "#no duplicate rows are present"
   ]
  },
  {
   "cell_type": "code",
   "execution_count": 13,
   "id": "867df9a2-e5ac-4142-af5c-0672127d1c8a",
   "metadata": {},
   "outputs": [
    {
     "data": {
      "text/html": [
       "<div>\n",
       "<style scoped>\n",
       "    .dataframe tbody tr th:only-of-type {\n",
       "        vertical-align: middle;\n",
       "    }\n",
       "\n",
       "    .dataframe tbody tr th {\n",
       "        vertical-align: top;\n",
       "    }\n",
       "\n",
       "    .dataframe thead th {\n",
       "        text-align: right;\n",
       "    }\n",
       "</style>\n",
       "<table border=\"1\" class=\"dataframe\">\n",
       "  <thead>\n",
       "    <tr style=\"text-align: right;\">\n",
       "      <th></th>\n",
       "      <th>count</th>\n",
       "      <th>mean</th>\n",
       "      <th>std</th>\n",
       "      <th>min</th>\n",
       "      <th>25%</th>\n",
       "      <th>50%</th>\n",
       "      <th>75%</th>\n",
       "      <th>max</th>\n",
       "    </tr>\n",
       "  </thead>\n",
       "  <tbody>\n",
       "    <tr>\n",
       "      <th>adview</th>\n",
       "      <td>14637.0</td>\n",
       "      <td>2066.029719</td>\n",
       "      <td>5.282706e+04</td>\n",
       "      <td>1.0</td>\n",
       "      <td>1.0</td>\n",
       "      <td>2.0</td>\n",
       "      <td>6.0</td>\n",
       "      <td>5429665.0</td>\n",
       "    </tr>\n",
       "    <tr>\n",
       "      <th>views</th>\n",
       "      <td>14637.0</td>\n",
       "      <td>711228.012844</td>\n",
       "      <td>2.731475e+06</td>\n",
       "      <td>49.0</td>\n",
       "      <td>31517.0</td>\n",
       "      <td>158668.0</td>\n",
       "      <td>583613.0</td>\n",
       "      <td>138047869.0</td>\n",
       "    </tr>\n",
       "    <tr>\n",
       "      <th>likes</th>\n",
       "      <td>14637.0</td>\n",
       "      <td>2785.841293</td>\n",
       "      <td>8.938491e+03</td>\n",
       "      <td>0.0</td>\n",
       "      <td>88.0</td>\n",
       "      <td>450.0</td>\n",
       "      <td>1863.0</td>\n",
       "      <td>283824.0</td>\n",
       "    </tr>\n",
       "    <tr>\n",
       "      <th>dislikes</th>\n",
       "      <td>14637.0</td>\n",
       "      <td>254.429391</td>\n",
       "      <td>1.029775e+03</td>\n",
       "      <td>0.0</td>\n",
       "      <td>7.0</td>\n",
       "      <td>38.0</td>\n",
       "      <td>167.0</td>\n",
       "      <td>49449.0</td>\n",
       "    </tr>\n",
       "    <tr>\n",
       "      <th>comment</th>\n",
       "      <td>14637.0</td>\n",
       "      <td>409.135547</td>\n",
       "      <td>1.511177e+03</td>\n",
       "      <td>0.0</td>\n",
       "      <td>7.0</td>\n",
       "      <td>46.0</td>\n",
       "      <td>224.0</td>\n",
       "      <td>75045.0</td>\n",
       "    </tr>\n",
       "  </tbody>\n",
       "</table>\n",
       "</div>"
      ],
      "text/plain": [
       "            count           mean           std   min      25%       50%  \\\n",
       "adview    14637.0    2066.029719  5.282706e+04   1.0      1.0       2.0   \n",
       "views     14637.0  711228.012844  2.731475e+06  49.0  31517.0  158668.0   \n",
       "likes     14637.0    2785.841293  8.938491e+03   0.0     88.0     450.0   \n",
       "dislikes  14637.0     254.429391  1.029775e+03   0.0      7.0      38.0   \n",
       "comment   14637.0     409.135547  1.511177e+03   0.0      7.0      46.0   \n",
       "\n",
       "               75%          max  \n",
       "adview         6.0    5429665.0  \n",
       "views     583613.0  138047869.0  \n",
       "likes       1863.0     283824.0  \n",
       "dislikes     167.0      49449.0  \n",
       "comment      224.0      75045.0  "
      ]
     },
     "execution_count": 13,
     "metadata": {},
     "output_type": "execute_result"
    }
   ],
   "source": [
    "dataset.describe().T\n",
    "\n",
    "#Provides summary statistics for the data\n",
    "\n",
    "#using this we can see that there are spme outliers in data  beacause of vast difference between mean and median values , min and max values"
   ]
  },
  {
   "cell_type": "code",
   "execution_count": 14,
   "id": "7b8215da-061e-433d-ab6a-c45445e0deda",
   "metadata": {},
   "outputs": [
    {
     "data": {
      "text/html": [
       "<div>\n",
       "<style scoped>\n",
       "    .dataframe tbody tr th:only-of-type {\n",
       "        vertical-align: middle;\n",
       "    }\n",
       "\n",
       "    .dataframe tbody tr th {\n",
       "        vertical-align: top;\n",
       "    }\n",
       "\n",
       "    .dataframe thead th {\n",
       "        text-align: right;\n",
       "    }\n",
       "</style>\n",
       "<table border=\"1\" class=\"dataframe\">\n",
       "  <thead>\n",
       "    <tr style=\"text-align: right;\">\n",
       "      <th></th>\n",
       "      <th>vidid</th>\n",
       "      <th>adview</th>\n",
       "      <th>views</th>\n",
       "      <th>likes</th>\n",
       "      <th>dislikes</th>\n",
       "      <th>comment</th>\n",
       "      <th>published</th>\n",
       "      <th>duration</th>\n",
       "      <th>category</th>\n",
       "    </tr>\n",
       "  </thead>\n",
       "  <tbody>\n",
       "    <tr>\n",
       "      <th>0</th>\n",
       "      <td>5912</td>\n",
       "      <td>40</td>\n",
       "      <td>1031602.0</td>\n",
       "      <td>8523.0</td>\n",
       "      <td>363.0</td>\n",
       "      <td>1095.0</td>\n",
       "      <td>2168</td>\n",
       "      <td>PT7M37S</td>\n",
       "      <td>5</td>\n",
       "    </tr>\n",
       "    <tr>\n",
       "      <th>1</th>\n",
       "      <td>2741</td>\n",
       "      <td>2</td>\n",
       "      <td>1707.0</td>\n",
       "      <td>56.0</td>\n",
       "      <td>2.0</td>\n",
       "      <td>6.0</td>\n",
       "      <td>2185</td>\n",
       "      <td>PT9M30S</td>\n",
       "      <td>3</td>\n",
       "    </tr>\n",
       "    <tr>\n",
       "      <th>2</th>\n",
       "      <td>8138</td>\n",
       "      <td>1</td>\n",
       "      <td>2023.0</td>\n",
       "      <td>25.0</td>\n",
       "      <td>0.0</td>\n",
       "      <td>2.0</td>\n",
       "      <td>2094</td>\n",
       "      <td>PT2M16S</td>\n",
       "      <td>2</td>\n",
       "    </tr>\n",
       "    <tr>\n",
       "      <th>3</th>\n",
       "      <td>9005</td>\n",
       "      <td>6</td>\n",
       "      <td>620860.0</td>\n",
       "      <td>777.0</td>\n",
       "      <td>161.0</td>\n",
       "      <td>153.0</td>\n",
       "      <td>2119</td>\n",
       "      <td>PT4M22S</td>\n",
       "      <td>7</td>\n",
       "    </tr>\n",
       "    <tr>\n",
       "      <th>4</th>\n",
       "      <td>122</td>\n",
       "      <td>1</td>\n",
       "      <td>666.0</td>\n",
       "      <td>1.0</td>\n",
       "      <td>0.0</td>\n",
       "      <td>0.0</td>\n",
       "      <td>2091</td>\n",
       "      <td>PT31S</td>\n",
       "      <td>3</td>\n",
       "    </tr>\n",
       "    <tr>\n",
       "      <th>...</th>\n",
       "      <td>...</td>\n",
       "      <td>...</td>\n",
       "      <td>...</td>\n",
       "      <td>...</td>\n",
       "      <td>...</td>\n",
       "      <td>...</td>\n",
       "      <td>...</td>\n",
       "      <td>...</td>\n",
       "      <td>...</td>\n",
       "    </tr>\n",
       "    <tr>\n",
       "      <th>14994</th>\n",
       "      <td>9869</td>\n",
       "      <td>2</td>\n",
       "      <td>525949.0</td>\n",
       "      <td>1137.0</td>\n",
       "      <td>83.0</td>\n",
       "      <td>86.0</td>\n",
       "      <td>1683</td>\n",
       "      <td>PT6M10S</td>\n",
       "      <td>0</td>\n",
       "    </tr>\n",
       "    <tr>\n",
       "      <th>14995</th>\n",
       "      <td>11758</td>\n",
       "      <td>1</td>\n",
       "      <td>665673.0</td>\n",
       "      <td>3849.0</td>\n",
       "      <td>156.0</td>\n",
       "      <td>569.0</td>\n",
       "      <td>1838</td>\n",
       "      <td>PT3M56S</td>\n",
       "      <td>3</td>\n",
       "    </tr>\n",
       "    <tr>\n",
       "      <th>14996</th>\n",
       "      <td>13263</td>\n",
       "      <td>4</td>\n",
       "      <td>3479.0</td>\n",
       "      <td>16.0</td>\n",
       "      <td>1.0</td>\n",
       "      <td>1.0</td>\n",
       "      <td>1053</td>\n",
       "      <td>PT3M13S</td>\n",
       "      <td>1</td>\n",
       "    </tr>\n",
       "    <tr>\n",
       "      <th>14997</th>\n",
       "      <td>6736</td>\n",
       "      <td>1</td>\n",
       "      <td>963.0</td>\n",
       "      <td>0.0</td>\n",
       "      <td>0.0</td>\n",
       "      <td>0.0</td>\n",
       "      <td>222</td>\n",
       "      <td>PT26S</td>\n",
       "      <td>6</td>\n",
       "    </tr>\n",
       "    <tr>\n",
       "      <th>14998</th>\n",
       "      <td>13592</td>\n",
       "      <td>1</td>\n",
       "      <td>15212.0</td>\n",
       "      <td>22.0</td>\n",
       "      <td>5.0</td>\n",
       "      <td>4.0</td>\n",
       "      <td>1960</td>\n",
       "      <td>PT1M1S</td>\n",
       "      <td>3</td>\n",
       "    </tr>\n",
       "  </tbody>\n",
       "</table>\n",
       "<p>14637 rows × 9 columns</p>\n",
       "</div>"
      ],
      "text/plain": [
       "       vidid  adview      views   likes  dislikes  comment  published  \\\n",
       "0       5912      40  1031602.0  8523.0     363.0   1095.0       2168   \n",
       "1       2741       2     1707.0    56.0       2.0      6.0       2185   \n",
       "2       8138       1     2023.0    25.0       0.0      2.0       2094   \n",
       "3       9005       6   620860.0   777.0     161.0    153.0       2119   \n",
       "4        122       1      666.0     1.0       0.0      0.0       2091   \n",
       "...      ...     ...        ...     ...       ...      ...        ...   \n",
       "14994   9869       2   525949.0  1137.0      83.0     86.0       1683   \n",
       "14995  11758       1   665673.0  3849.0     156.0    569.0       1838   \n",
       "14996  13263       4     3479.0    16.0       1.0      1.0       1053   \n",
       "14997   6736       1      963.0     0.0       0.0      0.0        222   \n",
       "14998  13592       1    15212.0    22.0       5.0      4.0       1960   \n",
       "\n",
       "      duration  category  \n",
       "0      PT7M37S         5  \n",
       "1      PT9M30S         3  \n",
       "2      PT2M16S         2  \n",
       "3      PT4M22S         7  \n",
       "4        PT31S         3  \n",
       "...        ...       ...  \n",
       "14994  PT6M10S         0  \n",
       "14995  PT3M56S         3  \n",
       "14996  PT3M13S         1  \n",
       "14997    PT26S         6  \n",
       "14998   PT1M1S         3  \n",
       "\n",
       "[14637 rows x 9 columns]"
      ]
     },
     "execution_count": 14,
     "metadata": {},
     "output_type": "execute_result"
    }
   ],
   "source": [
    "from sklearn.preprocessing import LabelEncoder\n",
    "encoder=LabelEncoder()\n",
    "dataset['vidid']=encoder.fit_transform(dataset['vidid'])\n",
    "dataset['published']=encoder.fit_transform(dataset['published'])\n",
    "dataset['category']=encoder.fit_transform(dataset['category'])\n",
    "dataset"
   ]
  },
  {
   "cell_type": "code",
   "execution_count": 15,
   "id": "0b3b14ee-8215-438a-98f5-ef4b3f6de5ad",
   "metadata": {},
   "outputs": [],
   "source": [
    "#creating a function to convert duration into an seconds having integer datatype\n",
    "\n",
    "def clean_dur(str_duration):\n",
    "    str_duration.upper().strip()\n",
    "    str_duration=str_duration[2:]\n",
    "    newstr_dur=\"\"\n",
    "    \n",
    "    if \"H\" in str_duration:\n",
    "        for i in range(len(str_duration)):\n",
    "            if str_duration[i]=='H':\n",
    "                hour_mark=i\n",
    "                word=str_duration[:i]\n",
    "                if word.isnumeric==False:\n",
    "                    word=\"0\"\n",
    "    else:\n",
    "        hour_mark=0\n",
    "        word=\"0\"\n",
    "    newstr_dur+=word+\":\"\n",
    "    \n",
    "    if \"M\" in str_duration:\n",
    "        for i in range(len(str_duration)):\n",
    "            if str_duration[i]=='M':\n",
    "                if hour_mark==0:\n",
    "                    word=str_duration[:i]\n",
    "                else:\n",
    "                    word=str_duration[hour_mark+1:i]\n",
    "                if word.isnumeric==False:\n",
    "                    word=\"0\"\n",
    "                min_mark=i\n",
    "    else:\n",
    "        min_mark=0\n",
    "        word=\"0\"\n",
    "    newstr_dur+=word+\":\"\n",
    "\n",
    "    if \"S\" in str_duration:\n",
    "        for i in range(len(str_duration)):\n",
    "            if str_duration[i]=='S':\n",
    "                if hour_mark==0 and min_mark==0:\n",
    "                    word=str_duration[:i]\n",
    "                elif min_mark==0:\n",
    "                    word=str_duration[hour_mark+1:i]\n",
    "                else:\n",
    "                    word=str_duration[min_mark+1:i]\n",
    "                if word==\"P\":\n",
    "                    word=\"0\"\n",
    "    else:\n",
    "        word=\"0\"\n",
    "    newstr_dur+=word\n",
    "\n",
    "    return newstr_dur\n",
    "\n"
   ]
  },
  {
   "cell_type": "code",
   "execution_count": 16,
   "id": "46f9f385-2d3d-4661-9cce-e049cfd8a47f",
   "metadata": {},
   "outputs": [],
   "source": [
    "def format_dur(new_dur):\n",
    "    new_dur=new_dur.split(\":\")\n",
    "    ans=(3600*int(new_dur[0]))+(60*int(new_dur[1]))+(int(new_dur[2]))\n",
    "    return ans"
   ]
  },
  {
   "cell_type": "code",
   "execution_count": 17,
   "id": "87eab963-2d94-4cbe-8579-bfc5c5e6c7bd",
   "metadata": {},
   "outputs": [],
   "source": [
    "dataset['duration']=dataset['duration'].apply(clean_dur)\n",
    "dataset['duration']=dataset['duration'].apply(format_dur)"
   ]
  },
  {
   "cell_type": "code",
   "execution_count": 18,
   "id": "e5426531-6567-4717-8082-7be29f80bcea",
   "metadata": {},
   "outputs": [
    {
     "data": {
      "text/html": [
       "<div>\n",
       "<style scoped>\n",
       "    .dataframe tbody tr th:only-of-type {\n",
       "        vertical-align: middle;\n",
       "    }\n",
       "\n",
       "    .dataframe tbody tr th {\n",
       "        vertical-align: top;\n",
       "    }\n",
       "\n",
       "    .dataframe thead th {\n",
       "        text-align: right;\n",
       "    }\n",
       "</style>\n",
       "<table border=\"1\" class=\"dataframe\">\n",
       "  <thead>\n",
       "    <tr style=\"text-align: right;\">\n",
       "      <th></th>\n",
       "      <th>vidid</th>\n",
       "      <th>adview</th>\n",
       "      <th>views</th>\n",
       "      <th>likes</th>\n",
       "      <th>dislikes</th>\n",
       "      <th>comment</th>\n",
       "      <th>published</th>\n",
       "      <th>duration</th>\n",
       "      <th>category</th>\n",
       "    </tr>\n",
       "  </thead>\n",
       "  <tbody>\n",
       "    <tr>\n",
       "      <th>0</th>\n",
       "      <td>5912</td>\n",
       "      <td>40</td>\n",
       "      <td>1031602.0</td>\n",
       "      <td>8523.0</td>\n",
       "      <td>363.0</td>\n",
       "      <td>1095.0</td>\n",
       "      <td>2168</td>\n",
       "      <td>457</td>\n",
       "      <td>5</td>\n",
       "    </tr>\n",
       "    <tr>\n",
       "      <th>1</th>\n",
       "      <td>2741</td>\n",
       "      <td>2</td>\n",
       "      <td>1707.0</td>\n",
       "      <td>56.0</td>\n",
       "      <td>2.0</td>\n",
       "      <td>6.0</td>\n",
       "      <td>2185</td>\n",
       "      <td>570</td>\n",
       "      <td>3</td>\n",
       "    </tr>\n",
       "    <tr>\n",
       "      <th>2</th>\n",
       "      <td>8138</td>\n",
       "      <td>1</td>\n",
       "      <td>2023.0</td>\n",
       "      <td>25.0</td>\n",
       "      <td>0.0</td>\n",
       "      <td>2.0</td>\n",
       "      <td>2094</td>\n",
       "      <td>136</td>\n",
       "      <td>2</td>\n",
       "    </tr>\n",
       "    <tr>\n",
       "      <th>3</th>\n",
       "      <td>9005</td>\n",
       "      <td>6</td>\n",
       "      <td>620860.0</td>\n",
       "      <td>777.0</td>\n",
       "      <td>161.0</td>\n",
       "      <td>153.0</td>\n",
       "      <td>2119</td>\n",
       "      <td>262</td>\n",
       "      <td>7</td>\n",
       "    </tr>\n",
       "    <tr>\n",
       "      <th>4</th>\n",
       "      <td>122</td>\n",
       "      <td>1</td>\n",
       "      <td>666.0</td>\n",
       "      <td>1.0</td>\n",
       "      <td>0.0</td>\n",
       "      <td>0.0</td>\n",
       "      <td>2091</td>\n",
       "      <td>31</td>\n",
       "      <td>3</td>\n",
       "    </tr>\n",
       "    <tr>\n",
       "      <th>...</th>\n",
       "      <td>...</td>\n",
       "      <td>...</td>\n",
       "      <td>...</td>\n",
       "      <td>...</td>\n",
       "      <td>...</td>\n",
       "      <td>...</td>\n",
       "      <td>...</td>\n",
       "      <td>...</td>\n",
       "      <td>...</td>\n",
       "    </tr>\n",
       "    <tr>\n",
       "      <th>14994</th>\n",
       "      <td>9869</td>\n",
       "      <td>2</td>\n",
       "      <td>525949.0</td>\n",
       "      <td>1137.0</td>\n",
       "      <td>83.0</td>\n",
       "      <td>86.0</td>\n",
       "      <td>1683</td>\n",
       "      <td>370</td>\n",
       "      <td>0</td>\n",
       "    </tr>\n",
       "    <tr>\n",
       "      <th>14995</th>\n",
       "      <td>11758</td>\n",
       "      <td>1</td>\n",
       "      <td>665673.0</td>\n",
       "      <td>3849.0</td>\n",
       "      <td>156.0</td>\n",
       "      <td>569.0</td>\n",
       "      <td>1838</td>\n",
       "      <td>236</td>\n",
       "      <td>3</td>\n",
       "    </tr>\n",
       "    <tr>\n",
       "      <th>14996</th>\n",
       "      <td>13263</td>\n",
       "      <td>4</td>\n",
       "      <td>3479.0</td>\n",
       "      <td>16.0</td>\n",
       "      <td>1.0</td>\n",
       "      <td>1.0</td>\n",
       "      <td>1053</td>\n",
       "      <td>193</td>\n",
       "      <td>1</td>\n",
       "    </tr>\n",
       "    <tr>\n",
       "      <th>14997</th>\n",
       "      <td>6736</td>\n",
       "      <td>1</td>\n",
       "      <td>963.0</td>\n",
       "      <td>0.0</td>\n",
       "      <td>0.0</td>\n",
       "      <td>0.0</td>\n",
       "      <td>222</td>\n",
       "      <td>26</td>\n",
       "      <td>6</td>\n",
       "    </tr>\n",
       "    <tr>\n",
       "      <th>14998</th>\n",
       "      <td>13592</td>\n",
       "      <td>1</td>\n",
       "      <td>15212.0</td>\n",
       "      <td>22.0</td>\n",
       "      <td>5.0</td>\n",
       "      <td>4.0</td>\n",
       "      <td>1960</td>\n",
       "      <td>61</td>\n",
       "      <td>3</td>\n",
       "    </tr>\n",
       "  </tbody>\n",
       "</table>\n",
       "<p>14637 rows × 9 columns</p>\n",
       "</div>"
      ],
      "text/plain": [
       "       vidid  adview      views   likes  dislikes  comment  published  \\\n",
       "0       5912      40  1031602.0  8523.0     363.0   1095.0       2168   \n",
       "1       2741       2     1707.0    56.0       2.0      6.0       2185   \n",
       "2       8138       1     2023.0    25.0       0.0      2.0       2094   \n",
       "3       9005       6   620860.0   777.0     161.0    153.0       2119   \n",
       "4        122       1      666.0     1.0       0.0      0.0       2091   \n",
       "...      ...     ...        ...     ...       ...      ...        ...   \n",
       "14994   9869       2   525949.0  1137.0      83.0     86.0       1683   \n",
       "14995  11758       1   665673.0  3849.0     156.0    569.0       1838   \n",
       "14996  13263       4     3479.0    16.0       1.0      1.0       1053   \n",
       "14997   6736       1      963.0     0.0       0.0      0.0        222   \n",
       "14998  13592       1    15212.0    22.0       5.0      4.0       1960   \n",
       "\n",
       "       duration  category  \n",
       "0           457         5  \n",
       "1           570         3  \n",
       "2           136         2  \n",
       "3           262         7  \n",
       "4            31         3  \n",
       "...         ...       ...  \n",
       "14994       370         0  \n",
       "14995       236         3  \n",
       "14996       193         1  \n",
       "14997        26         6  \n",
       "14998        61         3  \n",
       "\n",
       "[14637 rows x 9 columns]"
      ]
     },
     "execution_count": 18,
     "metadata": {},
     "output_type": "execute_result"
    }
   ],
   "source": [
    "dataset"
   ]
  },
  {
   "cell_type": "code",
   "execution_count": 19,
   "id": "6268777b-4881-4632-a979-5553c0374705",
   "metadata": {},
   "outputs": [
    {
     "data": {
      "image/png": "[encoded data removed]",
      "text/plain": [
       "<Figure size 640x480 with 1 Axes>"
      ]
     },
     "metadata": {},
     "output_type": "display_data"
    }
   ],
   "source": [
    "plt.plot(dataset['adview'])\n",
    "plt.ylabel(\"Adview\")\n",
    "plt.show()"
   ]
  },
  {
   "cell_type": "code",
   "execution_count": 30,
   "id": "1bac8197-ebc3-4c0e-a127-5321c6222029",
   "metadata": {},
   "outputs": [
    {
     "data": {
      "image/png": "[encoded data removed]",
      "text/plain": [
       "<Figure size 640x480 with 1 Axes>"
      ]
     },
     "metadata": {},
     "output_type": "display_data"
    }
   ],
   "source": [
    "plt.hist(dataset['category'])\n",
    "plt.show()"
   ]
  },
  {
   "cell_type": "code",
   "execution_count": 20,
   "id": "a5e4cd4c-b5d0-4c9e-9e68-cd58a517c375",
   "metadata": {},
   "outputs": [
    {
     "data": {
      "text/plain": [
       "(14636, 9)"
      ]
     },
     "execution_count": 20,
     "metadata": {},
     "output_type": "execute_result"
    }
   ],
   "source": [
    "#using above visualization we can see that adview above 2000000 is an outlier which is most likely a mistake so it is better to drop it\n",
    "dataset=dataset[dataset['adview']<=2000000]\n",
    "dataset.shape"
   ]
  },
  {
   "cell_type": "code",
   "execution_count": 21,
   "id": "9d427cea-4240-44f5-8e88-81204c8c2879",
   "metadata": {},
   "outputs": [
    {
     "data": {
      "image/png": "[encoded data removed]",
      "text/plain": [
       "<Figure size 1000x500 with 2 Axes>"
      ]
     },
     "metadata": {},
     "output_type": "display_data"
    }
   ],
   "source": [
    "plt.figure(figsize=(10,5))\n",
    "sns.heatmap(dataset.corr(),annot=True,cmap=\"YlGnBu\")\n",
    "plt.show()"
   ]
  },
  {
   "cell_type": "code",
   "execution_count": 31,
   "id": "8e2fceb1-5ecd-47e4-9647-9277b95a7897",
   "metadata": {},
   "outputs": [],
   "source": [
    "# preparing the data for model\n",
    "\n",
    "#here adview is our target variable ,i.e., the variable that is required to be predicted by the model\n",
    "\n",
    "#the rest of the columns are ou feature variables which helps in predicting the target variable so they need to be seperated\n",
    "\n",
    "target=dataset['adview']\n",
    "features=dataset.drop(columns=\"adview\")\n"
   ]
  },
  {
   "cell_type": "code",
   "execution_count": 32,
   "id": "13ae253b-7aad-4bf1-a6cd-03eced40b554",
   "metadata": {},
   "outputs": [
    {
     "data": {
      "text/plain": [
       "0    40\n",
       "1     2\n",
       "2     1\n",
       "3     6\n",
       "4     1\n",
       "Name: adview, dtype: int64"
      ]
     },
     "execution_count": 32,
     "metadata": {},
     "output_type": "execute_result"
    }
   ],
   "source": [
    "target.head()"
   ]
  },
  {
   "cell_type": "code",
   "execution_count": 33,
   "id": "164c7bed-f1ba-4f35-b51e-b03ddc8b7c06",
   "metadata": {},
   "outputs": [
    {
     "data": {
      "text/html": [
       "<div>\n",
       "<style scoped>\n",
       "    .dataframe tbody tr th:only-of-type {\n",
       "        vertical-align: middle;\n",
       "    }\n",
       "\n",
       "    .dataframe tbody tr th {\n",
       "        vertical-align: top;\n",
       "    }\n",
       "\n",
       "    .dataframe thead th {\n",
       "        text-align: right;\n",
       "    }\n",
       "</style>\n",
       "<table border=\"1\" class=\"dataframe\">\n",
       "  <thead>\n",
       "    <tr style=\"text-align: right;\">\n",
       "      <th></th>\n",
       "      <th>vidid</th>\n",
       "      <th>views</th>\n",
       "      <th>likes</th>\n",
       "      <th>dislikes</th>\n",
       "      <th>comment</th>\n",
       "      <th>published</th>\n",
       "      <th>duration</th>\n",
       "      <th>category</th>\n",
       "    </tr>\n",
       "  </thead>\n",
       "  <tbody>\n",
       "    <tr>\n",
       "      <th>0</th>\n",
       "      <td>5912</td>\n",
       "      <td>1031602.0</td>\n",
       "      <td>8523.0</td>\n",
       "      <td>363.0</td>\n",
       "      <td>1095.0</td>\n",
       "      <td>2168</td>\n",
       "      <td>457</td>\n",
       "      <td>5</td>\n",
       "    </tr>\n",
       "    <tr>\n",
       "      <th>1</th>\n",
       "      <td>2741</td>\n",
       "      <td>1707.0</td>\n",
       "      <td>56.0</td>\n",
       "      <td>2.0</td>\n",
       "      <td>6.0</td>\n",
       "      <td>2185</td>\n",
       "      <td>570</td>\n",
       "      <td>3</td>\n",
       "    </tr>\n",
       "    <tr>\n",
       "      <th>2</th>\n",
       "      <td>8138</td>\n",
       "      <td>2023.0</td>\n",
       "      <td>25.0</td>\n",
       "      <td>0.0</td>\n",
       "      <td>2.0</td>\n",
       "      <td>2094</td>\n",
       "      <td>136</td>\n",
       "      <td>2</td>\n",
       "    </tr>\n",
       "    <tr>\n",
       "      <th>3</th>\n",
       "      <td>9005</td>\n",
       "      <td>620860.0</td>\n",
       "      <td>777.0</td>\n",
       "      <td>161.0</td>\n",
       "      <td>153.0</td>\n",
       "      <td>2119</td>\n",
       "      <td>262</td>\n",
       "      <td>7</td>\n",
       "    </tr>\n",
       "    <tr>\n",
       "      <th>4</th>\n",
       "      <td>122</td>\n",
       "      <td>666.0</td>\n",
       "      <td>1.0</td>\n",
       "      <td>0.0</td>\n",
       "      <td>0.0</td>\n",
       "      <td>2091</td>\n",
       "      <td>31</td>\n",
       "      <td>3</td>\n",
       "    </tr>\n",
       "  </tbody>\n",
       "</table>\n",
       "</div>"
      ],
      "text/plain": [
       "   vidid      views   likes  dislikes  comment  published  duration  category\n",
       "0   5912  1031602.0  8523.0     363.0   1095.0       2168       457         5\n",
       "1   2741     1707.0    56.0       2.0      6.0       2185       570         3\n",
       "2   8138     2023.0    25.0       0.0      2.0       2094       136         2\n",
       "3   9005   620860.0   777.0     161.0    153.0       2119       262         7\n",
       "4    122      666.0     1.0       0.0      0.0       2091        31         3"
      ]
     },
     "execution_count": 33,
     "metadata": {},
     "output_type": "execute_result"
    }
   ],
   "source": [
    "features.head()"
   ]
  },
  {
   "cell_type": "code",
   "execution_count": 34,
   "id": "ac143a6a-2843-4d25-8ddc-57ff45f431e1",
   "metadata": {},
   "outputs": [],
   "source": [
    "# \"vidid\" is useless in this case as they are unique for each entry so they can be dropped\n",
    "\n",
    "features.drop(columns=\"vidid\",inplace=True)"
   ]
  },
  {
   "cell_type": "code",
   "execution_count": 35,
   "id": "8a04d717-1de2-4528-ac7c-6cd1065f0992",
   "metadata": {},
   "outputs": [
    {
     "name": "stdout",
     "output_type": "stream",
     "text": [
      "size of training data : feature = (11708, 7) and target = (11708,)\n",
      "size of testing data : feature = (2928, 7) and target = (2928,)\n"
     ]
    }
   ],
   "source": [
    "# Splitting the data into training ,testing and validation sets\n",
    "\n",
    "from sklearn.model_selection import train_test_split\n",
    "feature_train,feature_test,target_train,target_test= train_test_split(features,target,test_size=0.2,random_state=42)\n",
    "\n",
    "print(\"size of training data : feature =\",feature_train.shape,\"and target =\",target_train.shape)\n",
    "print(\"size of testing data : feature =\",feature_test.shape,\"and target =\",target_test.shape)"
   ]
  },
  {
   "cell_type": "markdown",
   "id": "6dd018ae-4282-4740-b4ff-429c4bf9cf78",
   "metadata": {},
   "source": [
    "Scaling Data"
   ]
  },
  {
   "cell_type": "code",
   "execution_count": 38,
   "id": "bf9b8bf3-b844-49f4-b965-d80abc56ecfb",
   "metadata": {},
   "outputs": [],
   "source": [
    "from sklearn.preprocessing import MinMaxScaler\n",
    "\n",
    "scaler=MinMaxScaler()\n",
    "\n",
    "feature_train=scaler.fit_transform(feature_train)\n",
    "feature_test=scaler.fit_transform(feature_test)\n"
   ]
  },
  {
   "cell_type": "code",
   "execution_count": 39,
   "id": "4399dbb7-9566-468e-91eb-16d14d1d77d3",
   "metadata": {},
   "outputs": [],
   "source": [
    "# Creating a function to predict from model\n",
    "\n",
    "from sklearn import metrics\n",
    "\n",
    "def model_prediction(xtest,ytest,model):\n",
    "    y_pred=model.predict(xtest)\n",
    "    print(\"Mean square error:\",metrics.mean_squared_error(ytest,y_pred))\n",
    "    print(\"Mean absolute error:\",metrics.mean_absolute_error(ytest,y_pred))\n",
    "    print(\"Root mean square error:\",np.sqrt(metrics.mean_squared_error(ytest,y_pred)))\n",
    "    print(\"R2 score:\",metrics.r2_score(ytest,y_pred))\n"
   ]
  },
  {
   "cell_type": "code",
   "execution_count": 40,
   "id": "3c26d251-afe5-4e0c-b852-62a42b7bc7a9",
   "metadata": {},
   "outputs": [
    {
     "name": "stdout",
     "output_type": "stream",
     "text": [
      "for testing:\n",
      "Mean square error: 835663131.1210337\n",
      "Mean absolute error: 3707.378005824532\n",
      "Root mean square error: 28907.83857573986\n",
      "R2 score: -0.00584155456343316\n"
     ]
    }
   ],
   "source": [
    "from sklearn.linear_model import LinearRegression\n",
    "\n",
    "linear_model=LinearRegression()\n",
    "linear_model.fit(feature_train,target_train)\n",
    "\n",
    "print(\"for testing:\")\n",
    "model_prediction(feature_test,target_test,linear_model)\n"
   ]
  },
  {
   "cell_type": "code",
   "execution_count": 43,
   "id": "19868cf4-c6e7-4c41-9d38-0f773b15160d",
   "metadata": {},
   "outputs": [
    {
     "name": "stdout",
     "output_type": "stream",
     "text": [
      "for testing:\n",
      "Mean square error: 1200455563.4754097\n",
      "Mean absolute error: 2828.098360655738\n",
      "Root mean square error: 34647.59101980121\n",
      "R2 score: -0.44492205672711904\n"
     ]
    }
   ],
   "source": [
    "from sklearn.tree import DecisionTreeRegressor\n",
    "\n",
    "tree_model=DecisionTreeRegressor()\n",
    "tree_model.fit(feature_train,target_train)\n",
    "\n",
    "print(\"for testing:\")\n",
    "model_prediction(feature_test,target_test,tree_model)\n",
    "\n"
   ]
  },
  {
   "cell_type": "code",
   "execution_count": 44,
   "id": "e9ff98a0-0fa2-4652-b355-949bffebf3ae",
   "metadata": {},
   "outputs": [
    {
     "name": "stdout",
     "output_type": "stream",
     "text": [
      "for testing:\n",
      "Mean square error: 553904721.8740649\n",
      "Mean absolute error: 3111.850218579235\n",
      "Root mean square error: 23535.18051500912\n",
      "R2 score: 0.33329548022247046\n"
     ]
    }
   ],
   "source": [
    "from sklearn.ensemble import RandomForestRegressor\n",
    "n_est=100\n",
    "min_samp_s=2\n",
    "min_samp_l=1\n",
    "forest_model=RandomForestRegressor(n_estimators=n_est,min_samples_split=min_samp_s,min_samples_leaf=min_samp_l)\n",
    "forest_model.fit(feature_train,target_train)\n",
    "\n",
    "print(\"for testing:\")\n",
    "model_prediction(feature_test,target_test,forest_model)\n"
   ]
  },
  {
   "cell_type": "code",
   "execution_count": 224,
   "id": "b977b9e7-6924-4f2f-b508-456897177fde",
   "metadata": {},
   "outputs": [
    {
     "name": "stdout",
     "output_type": "stream",
     "text": [
      "for testing:\n",
      "Mean square error: 1414180352.763027\n",
      "Mean absolute error: 1854.521888125659\n",
      "Root mean square error: 37605.58938193932\n",
      "R2 score: -0.0024328624015514944\n"
     ]
    }
   ],
   "source": [
    "from sklearn.svm import SVR\n",
    "\n",
    "svm_model=SVR()\n",
    "svm_model.fit(feature_train,target_train)\n",
    "\n",
    "print(\"for testing:\")\n",
    "model_prediction(feature_test,target_test,svm_model)"
   ]
  },
  {
   "cell_type": "code",
   "execution_count": 238,
   "id": "aaa218af-3a87-4e0a-910f-8d0a54aa50c8",
   "metadata": {},
   "outputs": [
    {
     "name": "stdout",
     "output_type": "stream",
     "text": [
      "for testing:\n",
      "Mean square error: 11575940123.22322\n",
      "Mean absolute error: 78752.43233941939\n",
      "Root mean square error: 107591.54299118133\n",
      "R2 score: -12.933319749857029\n"
     ]
    }
   ],
   "source": [
    "from sklearn.ensemble import AdaBoostRegressor\n",
    "\n",
    "adr_model=AdaBoostRegressor()\n",
    "\n",
    "adr_model.fit(feature_train,target_train)\n",
    "\n",
    "print(\"for testing:\")\n",
    "model_prediction(feature_test,target_test,adr_model)"
   ]
  },
  {
   "cell_type": "code",
   "execution_count": 239,
   "id": "9b743e94-f675-43c8-979d-b47ead385e90",
   "metadata": {},
   "outputs": [
    {
     "name": "stdout",
     "output_type": "stream",
     "text": [
      "Epoch 1/100\n"
     ]
    },
    {
     "name": "stderr",
     "output_type": "stream",
     "text": [
      "D:\\Lib\\site-packages\\keras\\src\\layers\\core\\dense.py:87: UserWarning: Do not pass an `input_shape`/`input_dim` argument to a layer. When using Sequential models, prefer using an `Input(shape)` object as the first layer in the model instead.\n",
      "  super().__init__(activity_regularizer=activity_regularizer, **kwargs)\n"
     ]
    },
    {
     "name": "stdout",
     "output_type": "stream",
     "text": [
      "\u001b[1m366/366\u001b[0m \u001b[32m━━━━━━━━━━━━━━━━━━━━\u001b[0m\u001b[37m\u001b[0m \u001b[1m3s\u001b[0m 2ms/step - loss: 350625024.0000 - mean_squared_error: 350625024.0000\n",
      "Epoch 2/100\n",
      "\u001b[1m366/366\u001b[0m \u001b[32m━━━━━━━━━━━━━━━━━━━━\u001b[0m\u001b[37m\u001b[0m \u001b[1m1s\u001b[0m 2ms/step - loss: 694806656.0000 - mean_squared_error: 694806656.0000\n",
      "Epoch 3/100\n",
      "\u001b[1m366/366\u001b[0m \u001b[32m━━━━━━━━━━━━━━━━━━━━\u001b[0m\u001b[37m\u001b[0m \u001b[1m1s\u001b[0m 2ms/step - loss: 567428352.0000 - mean_squared_error: 567428352.0000\n",
      "Epoch 4/100\n",
      "\u001b[1m366/366\u001b[0m \u001b[32m━━━━━━━━━━━━━━━━━━━━\u001b[0m\u001b[37m\u001b[0m \u001b[1m1s\u001b[0m 2ms/step - loss: 1447448320.0000 - mean_squared_error: 1447448320.0000\n",
      "Epoch 5/100\n",
      "\u001b[1m366/366\u001b[0m \u001b[32m━━━━━━━━━━━━━━━━━━━━\u001b[0m\u001b[37m\u001b[0m \u001b[1m1s\u001b[0m 2ms/step - loss: 1535739776.0000 - mean_squared_error: 1535739776.0000\n",
      "Epoch 6/100\n",
      "\u001b[1m366/366\u001b[0m \u001b[32m━━━━━━━━━━━━━━━━━━━━\u001b[0m\u001b[37m\u001b[0m \u001b[1m1s\u001b[0m 2ms/step - loss: 519709600.0000 - mean_squared_error: 519709600.0000\n",
      "Epoch 7/100\n",
      "\u001b[1m366/366\u001b[0m \u001b[32m━━━━━━━━━━━━━━━━━━━━\u001b[0m\u001b[37m\u001b[0m \u001b[1m1s\u001b[0m 2ms/step - loss: 467086496.0000 - mean_squared_error: 467086496.0000\n",
      "Epoch 8/100\n",
      "\u001b[1m366/366\u001b[0m \u001b[32m━━━━━━━━━━━━━━━━━━━━\u001b[0m\u001b[37m\u001b[0m \u001b[1m1s\u001b[0m 2ms/step - loss: 1288104576.0000 - mean_squared_error: 1288104576.0000\n",
      "Epoch 9/100\n",
      "\u001b[1m366/366\u001b[0m \u001b[32m━━━━━━━━━━━━━━━━━━━━\u001b[0m\u001b[37m\u001b[0m \u001b[1m1s\u001b[0m 2ms/step - loss: 1500065536.0000 - mean_squared_error: 1500065536.0000\n",
      "Epoch 10/100\n",
      "\u001b[1m366/366\u001b[0m \u001b[32m━━━━━━━━━━━━━━━━━━━━\u001b[0m\u001b[37m\u001b[0m \u001b[1m1s\u001b[0m 2ms/step - loss: 544191488.0000 - mean_squared_error: 544191488.0000\n",
      "Epoch 11/100\n",
      "\u001b[1m366/366\u001b[0m \u001b[32m━━━━━━━━━━━━━━━━━━━━\u001b[0m\u001b[37m\u001b[0m \u001b[1m1s\u001b[0m 2ms/step - loss: 841766720.0000 - mean_squared_error: 841766720.0000\n",
      "Epoch 12/100\n",
      "\u001b[1m366/366\u001b[0m \u001b[32m━━━━━━━━━━━━━━━━━━━━\u001b[0m\u001b[37m\u001b[0m \u001b[1m1s\u001b[0m 2ms/step - loss: 712870464.0000 - mean_squared_error: 712870464.0000\n",
      "Epoch 13/100\n",
      "\u001b[1m366/366\u001b[0m \u001b[32m━━━━━━━━━━━━━━━━━━━━\u001b[0m\u001b[37m\u001b[0m \u001b[1m1s\u001b[0m 2ms/step - loss: 566384192.0000 - mean_squared_error: 566384192.0000\n",
      "Epoch 14/100\n",
      "\u001b[1m366/366\u001b[0m \u001b[32m━━━━━━━━━━━━━━━━━━━━\u001b[0m\u001b[37m\u001b[0m \u001b[1m1s\u001b[0m 2ms/step - loss: 1984312704.0000 - mean_squared_error: 1984312704.0000\n",
      "Epoch 15/100\n",
      "\u001b[1m366/366\u001b[0m \u001b[32m━━━━━━━━━━━━━━━━━━━━\u001b[0m\u001b[37m\u001b[0m \u001b[1m1s\u001b[0m 2ms/step - loss: 530981248.0000 - mean_squared_error: 530981248.0000\n",
      "Epoch 16/100\n",
      "\u001b[1m366/366\u001b[0m \u001b[32m━━━━━━━━━━━━━━━━━━━━\u001b[0m\u001b[37m\u001b[0m \u001b[1m1s\u001b[0m 2ms/step - loss: 652617600.0000 - mean_squared_error: 652617600.0000\n",
      "Epoch 17/100\n",
      "\u001b[1m366/366\u001b[0m \u001b[32m━━━━━━━━━━━━━━━━━━━━\u001b[0m\u001b[37m\u001b[0m \u001b[1m1s\u001b[0m 2ms/step - loss: 1081267712.0000 - mean_squared_error: 1081267712.0000\n",
      "Epoch 18/100\n",
      "\u001b[1m366/366\u001b[0m \u001b[32m━━━━━━━━━━━━━━━━━━━━\u001b[0m\u001b[37m\u001b[0m \u001b[1m1s\u001b[0m 2ms/step - loss: 467616512.0000 - mean_squared_error: 467616512.0000\n",
      "Epoch 19/100\n",
      "\u001b[1m366/366\u001b[0m \u001b[32m━━━━━━━━━━━━━━━━━━━━\u001b[0m\u001b[37m\u001b[0m \u001b[1m1s\u001b[0m 2ms/step - loss: 929445568.0000 - mean_squared_error: 929445568.0000\n",
      "Epoch 20/100\n",
      "\u001b[1m366/366\u001b[0m \u001b[32m━━━━━━━━━━━━━━━━━━━━\u001b[0m\u001b[37m\u001b[0m \u001b[1m1s\u001b[0m 2ms/step - loss: 644705472.0000 - mean_squared_error: 644705472.0000\n",
      "Epoch 21/100\n",
      "\u001b[1m366/366\u001b[0m \u001b[32m━━━━━━━━━━━━━━━━━━━━\u001b[0m\u001b[37m\u001b[0m \u001b[1m1s\u001b[0m 2ms/step - loss: 569080640.0000 - mean_squared_error: 569080640.0000\n",
      "Epoch 22/100\n",
      "\u001b[1m366/366\u001b[0m \u001b[32m━━━━━━━━━━━━━━━━━━━━\u001b[0m\u001b[37m\u001b[0m \u001b[1m1s\u001b[0m 2ms/step - loss: 1076334336.0000 - mean_squared_error: 1076334336.0000\n",
      "Epoch 23/100\n",
      "\u001b[1m366/366\u001b[0m \u001b[32m━━━━━━━━━━━━━━━━━━━━\u001b[0m\u001b[37m\u001b[0m \u001b[1m1s\u001b[0m 2ms/step - loss: 771391168.0000 - mean_squared_error: 771391168.0000\n",
      "Epoch 24/100\n",
      "\u001b[1m366/366\u001b[0m \u001b[32m━━━━━━━━━━━━━━━━━━━━\u001b[0m\u001b[37m\u001b[0m \u001b[1m1s\u001b[0m 2ms/step - loss: 657625984.0000 - mean_squared_error: 657625984.0000\n",
      "Epoch 25/100\n",
      "\u001b[1m366/366\u001b[0m \u001b[32m━━━━━━━━━━━━━━━━━━━━\u001b[0m\u001b[37m\u001b[0m \u001b[1m1s\u001b[0m 2ms/step - loss: 496148160.0000 - mean_squared_error: 496148160.0000\n",
      "Epoch 26/100\n",
      "\u001b[1m366/366\u001b[0m \u001b[32m━━━━━━━━━━━━━━━━━━━━\u001b[0m\u001b[37m\u001b[0m \u001b[1m1s\u001b[0m 2ms/step - loss: 467607840.0000 - mean_squared_error: 467607840.0000\n",
      "Epoch 27/100\n",
      "\u001b[1m366/366\u001b[0m \u001b[32m━━━━━━━━━━━━━━━━━━━━\u001b[0m\u001b[37m\u001b[0m \u001b[1m1s\u001b[0m 2ms/step - loss: 517684512.0000 - mean_squared_error: 517684512.0000\n",
      "Epoch 28/100\n",
      "\u001b[1m366/366\u001b[0m \u001b[32m━━━━━━━━━━━━━━━━━━━━\u001b[0m\u001b[37m\u001b[0m \u001b[1m1s\u001b[0m 2ms/step - loss: 647532928.0000 - mean_squared_error: 647532928.0000\n",
      "Epoch 29/100\n",
      "\u001b[1m366/366\u001b[0m \u001b[32m━━━━━━━━━━━━━━━━━━━━\u001b[0m\u001b[37m\u001b[0m \u001b[1m1s\u001b[0m 2ms/step - loss: 929257536.0000 - mean_squared_error: 929257536.0000\n",
      "Epoch 30/100\n",
      "\u001b[1m366/366\u001b[0m \u001b[32m━━━━━━━━━━━━━━━━━━━━\u001b[0m\u001b[37m\u001b[0m \u001b[1m1s\u001b[0m 2ms/step - loss: 654554944.0000 - mean_squared_error: 654554944.0000\n",
      "Epoch 31/100\n",
      "\u001b[1m366/366\u001b[0m \u001b[32m━━━━━━━━━━━━━━━━━━━━\u001b[0m\u001b[37m\u001b[0m \u001b[1m1s\u001b[0m 2ms/step - loss: 1059303424.0000 - mean_squared_error: 1059303424.0000\n",
      "Epoch 32/100\n",
      "\u001b[1m366/366\u001b[0m \u001b[32m━━━━━━━━━━━━━━━━━━━━\u001b[0m\u001b[37m\u001b[0m \u001b[1m1s\u001b[0m 2ms/step - loss: 1091834496.0000 - mean_squared_error: 1091834496.0000\n",
      "Epoch 33/100\n",
      "\u001b[1m366/366\u001b[0m \u001b[32m━━━━━━━━━━━━━━━━━━━━\u001b[0m\u001b[37m\u001b[0m \u001b[1m1s\u001b[0m 2ms/step - loss: 603613504.0000 - mean_squared_error: 603613504.0000\n",
      "Epoch 34/100\n",
      "\u001b[1m366/366\u001b[0m \u001b[32m━━━━━━━━━━━━━━━━━━━━\u001b[0m\u001b[37m\u001b[0m \u001b[1m1s\u001b[0m 2ms/step - loss: 931680576.0000 - mean_squared_error: 931680576.0000\n",
      "Epoch 35/100\n",
      "\u001b[1m366/366\u001b[0m \u001b[32m━━━━━━━━━━━━━━━━━━━━\u001b[0m\u001b[37m\u001b[0m \u001b[1m1s\u001b[0m 2ms/step - loss: 1090129024.0000 - mean_squared_error: 1090129024.0000\n",
      "Epoch 36/100\n",
      "\u001b[1m366/366\u001b[0m \u001b[32m━━━━━━━━━━━━━━━━━━━━\u001b[0m\u001b[37m\u001b[0m \u001b[1m1s\u001b[0m 2ms/step - loss: 412023584.0000 - mean_squared_error: 412023584.0000\n",
      "Epoch 37/100\n",
      "\u001b[1m366/366\u001b[0m \u001b[32m━━━━━━━━━━━━━━━━━━━━\u001b[0m\u001b[37m\u001b[0m \u001b[1m1s\u001b[0m 2ms/step - loss: 488866784.0000 - mean_squared_error: 488866784.0000\n",
      "Epoch 38/100\n",
      "\u001b[1m366/366\u001b[0m \u001b[32m━━━━━━━━━━━━━━━━━━━━\u001b[0m\u001b[37m\u001b[0m \u001b[1m1s\u001b[0m 2ms/step - loss: 1762157440.0000 - mean_squared_error: 1762157440.0000\n",
      "Epoch 39/100\n",
      "\u001b[1m366/366\u001b[0m \u001b[32m━━━━━━━━━━━━━━━━━━━━\u001b[0m\u001b[37m\u001b[0m \u001b[1m1s\u001b[0m 2ms/step - loss: 443393696.0000 - mean_squared_error: 443393696.0000\n",
      "Epoch 40/100\n",
      "\u001b[1m366/366\u001b[0m \u001b[32m━━━━━━━━━━━━━━━━━━━━\u001b[0m\u001b[37m\u001b[0m \u001b[1m1s\u001b[0m 2ms/step - loss: 845333376.0000 - mean_squared_error: 845333376.0000\n",
      "Epoch 41/100\n",
      "\u001b[1m366/366\u001b[0m \u001b[32m━━━━━━━━━━━━━━━━━━━━\u001b[0m\u001b[37m\u001b[0m \u001b[1m1s\u001b[0m 2ms/step - loss: 1142604800.0000 - mean_squared_error: 1142604800.0000\n",
      "Epoch 42/100\n",
      "\u001b[1m366/366\u001b[0m \u001b[32m━━━━━━━━━━━━━━━━━━━━\u001b[0m\u001b[37m\u001b[0m \u001b[1m1s\u001b[0m 2ms/step - loss: 494752320.0000 - mean_squared_error: 494752320.0000\n",
      "Epoch 43/100\n",
      "\u001b[1m366/366\u001b[0m \u001b[32m━━━━━━━━━━━━━━━━━━━━\u001b[0m\u001b[37m\u001b[0m \u001b[1m1s\u001b[0m 2ms/step - loss: 492620096.0000 - mean_squared_error: 492620096.0000\n",
      "Epoch 44/100\n",
      "\u001b[1m366/366\u001b[0m \u001b[32m━━━━━━━━━━━━━━━━━━━━\u001b[0m\u001b[37m\u001b[0m \u001b[1m1s\u001b[0m 2ms/step - loss: 400036992.0000 - mean_squared_error: 400036992.0000\n",
      "Epoch 45/100\n",
      "\u001b[1m366/366\u001b[0m \u001b[32m━━━━━━━━━━━━━━━━━━━━\u001b[0m\u001b[37m\u001b[0m \u001b[1m1s\u001b[0m 2ms/step - loss: 382240960.0000 - mean_squared_error: 382240960.0000\n",
      "Epoch 46/100\n",
      "\u001b[1m366/366\u001b[0m \u001b[32m━━━━━━━━━━━━━━━━━━━━\u001b[0m\u001b[37m\u001b[0m \u001b[1m1s\u001b[0m 2ms/step - loss: 295293184.0000 - mean_squared_error: 295293184.0000\n",
      "Epoch 47/100\n",
      "\u001b[1m366/366\u001b[0m \u001b[32m━━━━━━━━━━━━━━━━━━━━\u001b[0m\u001b[37m\u001b[0m \u001b[1m1s\u001b[0m 2ms/step - loss: 459282272.0000 - mean_squared_error: 459282272.0000\n",
      "Epoch 48/100\n",
      "\u001b[1m366/366\u001b[0m \u001b[32m━━━━━━━━━━━━━━━━━━━━\u001b[0m\u001b[37m\u001b[0m \u001b[1m1s\u001b[0m 2ms/step - loss: 1022087872.0000 - mean_squared_error: 1022087872.0000\n",
      "Epoch 49/100\n",
      "\u001b[1m366/366\u001b[0m \u001b[32m━━━━━━━━━━━━━━━━━━━━\u001b[0m\u001b[37m\u001b[0m \u001b[1m1s\u001b[0m 2ms/step - loss: 1108458240.0000 - mean_squared_error: 1108458240.0000\n",
      "Epoch 50/100\n",
      "\u001b[1m366/366\u001b[0m \u001b[32m━━━━━━━━━━━━━━━━━━━━\u001b[0m\u001b[37m\u001b[0m \u001b[1m1s\u001b[0m 2ms/step - loss: 791201472.0000 - mean_squared_error: 791201472.0000\n",
      "Epoch 51/100\n",
      "\u001b[1m366/366\u001b[0m \u001b[32m━━━━━━━━━━━━━━━━━━━━\u001b[0m\u001b[37m\u001b[0m \u001b[1m1s\u001b[0m 2ms/step - loss: 1611701632.0000 - mean_squared_error: 1611701632.0000\n",
      "Epoch 52/100\n",
      "\u001b[1m366/366\u001b[0m \u001b[32m━━━━━━━━━━━━━━━━━━━━\u001b[0m\u001b[37m\u001b[0m \u001b[1m1s\u001b[0m 2ms/step - loss: 1042815808.0000 - mean_squared_error: 1042815808.0000\n",
      "Epoch 53/100\n",
      "\u001b[1m366/366\u001b[0m \u001b[32m━━━━━━━━━━━━━━━━━━━━\u001b[0m\u001b[37m\u001b[0m \u001b[1m1s\u001b[0m 2ms/step - loss: 1607921792.0000 - mean_squared_error: 1607921792.0000\n",
      "Epoch 54/100\n",
      "\u001b[1m366/366\u001b[0m \u001b[32m━━━━━━━━━━━━━━━━━━━━\u001b[0m\u001b[37m\u001b[0m \u001b[1m1s\u001b[0m 2ms/step - loss: 1247119872.0000 - mean_squared_error: 1247119872.0000\n",
      "Epoch 55/100\n",
      "\u001b[1m366/366\u001b[0m \u001b[32m━━━━━━━━━━━━━━━━━━━━\u001b[0m\u001b[37m\u001b[0m \u001b[1m1s\u001b[0m 2ms/step - loss: 746753088.0000 - mean_squared_error: 746753088.0000\n",
      "Epoch 56/100\n",
      "\u001b[1m366/366\u001b[0m \u001b[32m━━━━━━━━━━━━━━━━━━━━\u001b[0m\u001b[37m\u001b[0m \u001b[1m1s\u001b[0m 2ms/step - loss: 660266368.0000 - mean_squared_error: 660266368.0000\n",
      "Epoch 57/100\n",
      "\u001b[1m366/366\u001b[0m \u001b[32m━━━━━━━━━━━━━━━━━━━━\u001b[0m\u001b[37m\u001b[0m \u001b[1m1s\u001b[0m 2ms/step - loss: 1038190720.0000 - mean_squared_error: 1038190720.0000\n",
      "Epoch 58/100\n",
      "\u001b[1m366/366\u001b[0m \u001b[32m━━━━━━━━━━━━━━━━━━━━\u001b[0m\u001b[37m\u001b[0m \u001b[1m1s\u001b[0m 2ms/step - loss: 933247872.0000 - mean_squared_error: 933247872.0000\n",
      "Epoch 59/100\n",
      "\u001b[1m366/366\u001b[0m \u001b[32m━━━━━━━━━━━━━━━━━━━━\u001b[0m\u001b[37m\u001b[0m \u001b[1m1s\u001b[0m 1ms/step - loss: 603995136.0000 - mean_squared_error: 603995136.0000\n",
      "Epoch 60/100\n",
      "\u001b[1m366/366\u001b[0m \u001b[32m━━━━━━━━━━━━━━━━━━━━\u001b[0m\u001b[37m\u001b[0m \u001b[1m1s\u001b[0m 2ms/step - loss: 924906944.0000 - mean_squared_error: 924906944.0000\n",
      "Epoch 61/100\n",
      "\u001b[1m366/366\u001b[0m \u001b[32m━━━━━━━━━━━━━━━━━━━━\u001b[0m\u001b[37m\u001b[0m \u001b[1m1s\u001b[0m 2ms/step - loss: 651725440.0000 - mean_squared_error: 651725440.0000\n",
      "Epoch 62/100\n",
      "\u001b[1m366/366\u001b[0m \u001b[32m━━━━━━━━━━━━━━━━━━━━\u001b[0m\u001b[37m\u001b[0m \u001b[1m1s\u001b[0m 2ms/step - loss: 556271936.0000 - mean_squared_error: 556271936.0000\n",
      "Epoch 63/100\n",
      "\u001b[1m366/366\u001b[0m \u001b[32m━━━━━━━━━━━━━━━━━━━━\u001b[0m\u001b[37m\u001b[0m \u001b[1m1s\u001b[0m 2ms/step - loss: 732617344.0000 - mean_squared_error: 732617344.0000\n",
      "Epoch 64/100\n",
      "\u001b[1m366/366\u001b[0m \u001b[32m━━━━━━━━━━━━━━━━━━━━\u001b[0m\u001b[37m\u001b[0m \u001b[1m1s\u001b[0m 2ms/step - loss: 742747200.0000 - mean_squared_error: 742747200.0000\n",
      "Epoch 65/100\n",
      "\u001b[1m366/366\u001b[0m \u001b[32m━━━━━━━━━━━━━━━━━━━━\u001b[0m\u001b[37m\u001b[0m \u001b[1m1s\u001b[0m 2ms/step - loss: 766478848.0000 - mean_squared_error: 766478848.0000\n",
      "Epoch 66/100\n",
      "\u001b[1m366/366\u001b[0m \u001b[32m━━━━━━━━━━━━━━━━━━━━\u001b[0m\u001b[37m\u001b[0m \u001b[1m1s\u001b[0m 2ms/step - loss: 335923872.0000 - mean_squared_error: 335923872.0000\n",
      "Epoch 67/100\n",
      "\u001b[1m366/366\u001b[0m \u001b[32m━━━━━━━━━━━━━━━━━━━━\u001b[0m\u001b[37m\u001b[0m \u001b[1m1s\u001b[0m 2ms/step - loss: 1518784128.0000 - mean_squared_error: 1518784128.0000\n",
      "Epoch 68/100\n",
      "\u001b[1m366/366\u001b[0m \u001b[32m━━━━━━━━━━━━━━━━━━━━\u001b[0m\u001b[37m\u001b[0m \u001b[1m1s\u001b[0m 2ms/step - loss: 874006272.0000 - mean_squared_error: 874006272.0000\n",
      "Epoch 69/100\n",
      "\u001b[1m366/366\u001b[0m \u001b[32m━━━━━━━━━━━━━━━━━━━━\u001b[0m\u001b[37m\u001b[0m \u001b[1m1s\u001b[0m 1ms/step - loss: 1065805824.0000 - mean_squared_error: 1065805824.0000\n",
      "Epoch 70/100\n",
      "\u001b[1m366/366\u001b[0m \u001b[32m━━━━━━━━━━━━━━━━━━━━\u001b[0m\u001b[37m\u001b[0m \u001b[1m1s\u001b[0m 2ms/step - loss: 521713920.0000 - mean_squared_error: 521713920.0000\n",
      "Epoch 71/100\n",
      "\u001b[1m366/366\u001b[0m \u001b[32m━━━━━━━━━━━━━━━━━━━━\u001b[0m\u001b[37m\u001b[0m \u001b[1m1s\u001b[0m 2ms/step - loss: 1192706048.0000 - mean_squared_error: 1192706048.0000\n",
      "Epoch 72/100\n",
      "\u001b[1m366/366\u001b[0m \u001b[32m━━━━━━━━━━━━━━━━━━━━\u001b[0m\u001b[37m\u001b[0m \u001b[1m1s\u001b[0m 2ms/step - loss: 600853056.0000 - mean_squared_error: 600853056.0000\n",
      "Epoch 73/100\n",
      "\u001b[1m366/366\u001b[0m \u001b[32m━━━━━━━━━━━━━━━━━━━━\u001b[0m\u001b[37m\u001b[0m \u001b[1m1s\u001b[0m 1ms/step - loss: 702285760.0000 - mean_squared_error: 702285760.0000\n",
      "Epoch 74/100\n",
      "\u001b[1m366/366\u001b[0m \u001b[32m━━━━━━━━━━━━━━━━━━━━\u001b[0m\u001b[37m\u001b[0m \u001b[1m1s\u001b[0m 2ms/step - loss: 538251584.0000 - mean_squared_error: 538251584.0000\n",
      "Epoch 75/100\n",
      "\u001b[1m366/366\u001b[0m \u001b[32m━━━━━━━━━━━━━━━━━━━━\u001b[0m\u001b[37m\u001b[0m \u001b[1m1s\u001b[0m 2ms/step - loss: 634213824.0000 - mean_squared_error: 634213824.0000\n",
      "Epoch 76/100\n",
      "\u001b[1m366/366\u001b[0m \u001b[32m━━━━━━━━━━━━━━━━━━━━\u001b[0m\u001b[37m\u001b[0m \u001b[1m1s\u001b[0m 2ms/step - loss: 601614272.0000 - mean_squared_error: 601614272.0000\n",
      "Epoch 77/100\n",
      "\u001b[1m366/366\u001b[0m \u001b[32m━━━━━━━━━━━━━━━━━━━━\u001b[0m\u001b[37m\u001b[0m \u001b[1m1s\u001b[0m 2ms/step - loss: 606949568.0000 - mean_squared_error: 606949568.0000\n",
      "Epoch 78/100\n",
      "\u001b[1m366/366\u001b[0m \u001b[32m━━━━━━━━━━━━━━━━━━━━\u001b[0m\u001b[37m\u001b[0m \u001b[1m1s\u001b[0m 2ms/step - loss: 836422080.0000 - mean_squared_error: 836422080.0000\n",
      "Epoch 79/100\n",
      "\u001b[1m366/366\u001b[0m \u001b[32m━━━━━━━━━━━━━━━━━━━━\u001b[0m\u001b[37m\u001b[0m \u001b[1m1s\u001b[0m 2ms/step - loss: 969506752.0000 - mean_squared_error: 969506752.0000\n",
      "Epoch 80/100\n",
      "\u001b[1m366/366\u001b[0m \u001b[32m━━━━━━━━━━━━━━━━━━━━\u001b[0m\u001b[37m\u001b[0m \u001b[1m1s\u001b[0m 2ms/step - loss: 863159808.0000 - mean_squared_error: 863159808.0000\n",
      "Epoch 81/100\n",
      "\u001b[1m366/366\u001b[0m \u001b[32m━━━━━━━━━━━━━━━━━━━━\u001b[0m\u001b[37m\u001b[0m \u001b[1m1s\u001b[0m 2ms/step - loss: 500076480.0000 - mean_squared_error: 500076480.0000\n",
      "Epoch 82/100\n",
      "\u001b[1m366/366\u001b[0m \u001b[32m━━━━━━━━━━━━━━━━━━━━\u001b[0m\u001b[37m\u001b[0m \u001b[1m1s\u001b[0m 2ms/step - loss: 1478245120.0000 - mean_squared_error: 1478245120.0000\n",
      "Epoch 83/100\n",
      "\u001b[1m366/366\u001b[0m \u001b[32m━━━━━━━━━━━━━━━━━━━━\u001b[0m\u001b[37m\u001b[0m \u001b[1m1s\u001b[0m 2ms/step - loss: 645485056.0000 - mean_squared_error: 645485056.0000\n",
      "Epoch 84/100\n",
      "\u001b[1m366/366\u001b[0m \u001b[32m━━━━━━━━━━━━━━━━━━━━\u001b[0m\u001b[37m\u001b[0m \u001b[1m1s\u001b[0m 2ms/step - loss: 530986944.0000 - mean_squared_error: 530986944.0000\n",
      "Epoch 85/100\n",
      "\u001b[1m366/366\u001b[0m \u001b[32m━━━━━━━━━━━━━━━━━━━━\u001b[0m\u001b[37m\u001b[0m \u001b[1m1s\u001b[0m 2ms/step - loss: 635431104.0000 - mean_squared_error: 635431104.0000\n",
      "Epoch 86/100\n",
      "\u001b[1m366/366\u001b[0m \u001b[32m━━━━━━━━━━━━━━━━━━━━\u001b[0m\u001b[37m\u001b[0m \u001b[1m1s\u001b[0m 2ms/step - loss: 441380864.0000 - mean_squared_error: 441380864.0000\n",
      "Epoch 87/100\n",
      "\u001b[1m366/366\u001b[0m \u001b[32m━━━━━━━━━━━━━━━━━━━━\u001b[0m\u001b[37m\u001b[0m \u001b[1m1s\u001b[0m 2ms/step - loss: 754550272.0000 - mean_squared_error: 754550272.0000\n",
      "Epoch 88/100\n",
      "\u001b[1m366/366\u001b[0m \u001b[32m━━━━━━━━━━━━━━━━━━━━\u001b[0m\u001b[37m\u001b[0m \u001b[1m1s\u001b[0m 2ms/step - loss: 406505760.0000 - mean_squared_error: 406505760.0000\n",
      "Epoch 89/100\n",
      "\u001b[1m366/366\u001b[0m \u001b[32m━━━━━━━━━━━━━━━━━━━━\u001b[0m\u001b[37m\u001b[0m \u001b[1m1s\u001b[0m 2ms/step - loss: 856654656.0000 - mean_squared_error: 856654656.0000\n",
      "Epoch 90/100\n",
      "\u001b[1m366/366\u001b[0m \u001b[32m━━━━━━━━━━━━━━━━━━━━\u001b[0m\u001b[37m\u001b[0m \u001b[1m1s\u001b[0m 2ms/step - loss: 452880064.0000 - mean_squared_error: 452880064.0000\n",
      "Epoch 91/100\n",
      "\u001b[1m366/366\u001b[0m \u001b[32m━━━━━━━━━━━━━━━━━━━━\u001b[0m\u001b[37m\u001b[0m \u001b[1m1s\u001b[0m 2ms/step - loss: 892579008.0000 - mean_squared_error: 892579008.0000\n",
      "Epoch 92/100\n",
      "\u001b[1m366/366\u001b[0m \u001b[32m━━━━━━━━━━━━━━━━━━━━\u001b[0m\u001b[37m\u001b[0m \u001b[1m1s\u001b[0m 2ms/step - loss: 1129223808.0000 - mean_squared_error: 1129223808.0000\n",
      "Epoch 93/100\n",
      "\u001b[1m366/366\u001b[0m \u001b[32m━━━━━━━━━━━━━━━━━━━━\u001b[0m\u001b[37m\u001b[0m \u001b[1m1s\u001b[0m 2ms/step - loss: 1147709696.0000 - mean_squared_error: 1147709696.0000\n",
      "Epoch 94/100\n",
      "\u001b[1m366/366\u001b[0m \u001b[32m━━━━━━━━━━━━━━━━━━━━\u001b[0m\u001b[37m\u001b[0m \u001b[1m1s\u001b[0m 2ms/step - loss: 257827792.0000 - mean_squared_error: 257827792.0000\n",
      "Epoch 95/100\n",
      "\u001b[1m366/366\u001b[0m \u001b[32m━━━━━━━━━━━━━━━━━━━━\u001b[0m\u001b[37m\u001b[0m \u001b[1m1s\u001b[0m 2ms/step - loss: 661761024.0000 - mean_squared_error: 661761024.0000\n",
      "Epoch 96/100\n",
      "\u001b[1m366/366\u001b[0m \u001b[32m━━━━━━━━━━━━━━━━━━━━\u001b[0m\u001b[37m\u001b[0m \u001b[1m1s\u001b[0m 2ms/step - loss: 1199104896.0000 - mean_squared_error: 1199104896.0000\n",
      "Epoch 97/100\n",
      "\u001b[1m366/366\u001b[0m \u001b[32m━━━━━━━━━━━━━━━━━━━━\u001b[0m\u001b[37m\u001b[0m \u001b[1m1s\u001b[0m 2ms/step - loss: 1287053696.0000 - mean_squared_error: 1287053696.0000\n",
      "Epoch 98/100\n",
      "\u001b[1m366/366\u001b[0m \u001b[32m━━━━━━━━━━━━━━━━━━━━\u001b[0m\u001b[37m\u001b[0m \u001b[1m1s\u001b[0m 2ms/step - loss: 565694912.0000 - mean_squared_error: 565694912.0000\n",
      "Epoch 99/100\n",
      "\u001b[1m366/366\u001b[0m \u001b[32m━━━━━━━━━━━━━━━━━━━━\u001b[0m\u001b[37m\u001b[0m \u001b[1m1s\u001b[0m 2ms/step - loss: 886451840.0000 - mean_squared_error: 886451840.0000\n",
      "Epoch 100/100\n",
      "\u001b[1m366/366\u001b[0m \u001b[32m━━━━━━━━━━━━━━━━━━━━\u001b[0m\u001b[37m\u001b[0m \u001b[1m1s\u001b[0m 2ms/step - loss: 678202816.0000 - mean_squared_error: 678202816.0000\n"
     ]
    },
    {
     "data": {
      "text/html": [
       "<pre style=\"white-space:pre;overflow-x:auto;line-height:normal;font-family:Menlo,'DejaVu Sans Mono',consolas,'Courier New',monospace\"><span style=\"font-weight: bold\">Model: \"sequential_7\"</span>\n",
       "</pre>\n"
      ],
      "text/plain": [
       "\u001b[1mModel: \"sequential_7\"\u001b[0m\n"
      ]
     },
     "metadata": {},
     "output_type": "display_data"
    },
    {
     "data": {
      "text/html": [
       "<pre style=\"white-space:pre;overflow-x:auto;line-height:normal;font-family:Menlo,'DejaVu Sans Mono',consolas,'Courier New',monospace\">┏━━━━━━━━━━━━━━━━━━━━━━━━━━━━━━━━━━━━━━┳━━━━━━━━━━━━━━━━━━━━━━━━━━━━━┳━━━━━━━━━━━━━━━━━┓\n",
       "┃<span style=\"font-weight: bold\"> Layer (type)                         </span>┃<span style=\"font-weight: bold\"> Output Shape                </span>┃<span style=\"font-weight: bold\">         Param # </span>┃\n",
       "┡━━━━━━━━━━━━━━━━━━━━━━━━━━━━━━━━━━━━━━╇━━━━━━━━━━━━━━━━━━━━━━━━━━━━━╇━━━━━━━━━━━━━━━━━┩\n",
       "│ dense_21 (<span style=\"color: #0087ff; text-decoration-color: #0087ff\">Dense</span>)                     │ (<span style=\"color: #00d7ff; text-decoration-color: #00d7ff\">None</span>, <span style=\"color: #00af00; text-decoration-color: #00af00\">6</span>)                   │              <span style=\"color: #00af00; text-decoration-color: #00af00\">54</span> │\n",
       "├──────────────────────────────────────┼─────────────────────────────┼─────────────────┤\n",
       "│ dense_22 (<span style=\"color: #0087ff; text-decoration-color: #0087ff\">Dense</span>)                     │ (<span style=\"color: #00d7ff; text-decoration-color: #00d7ff\">None</span>, <span style=\"color: #00af00; text-decoration-color: #00af00\">6</span>)                   │              <span style=\"color: #00af00; text-decoration-color: #00af00\">42</span> │\n",
       "├──────────────────────────────────────┼─────────────────────────────┼─────────────────┤\n",
       "│ dense_23 (<span style=\"color: #0087ff; text-decoration-color: #0087ff\">Dense</span>)                     │ (<span style=\"color: #00d7ff; text-decoration-color: #00d7ff\">None</span>, <span style=\"color: #00af00; text-decoration-color: #00af00\">1</span>)                   │               <span style=\"color: #00af00; text-decoration-color: #00af00\">7</span> │\n",
       "└──────────────────────────────────────┴─────────────────────────────┴─────────────────┘\n",
       "</pre>\n"
      ],
      "text/plain": [
       "┏━━━━━━━━━━━━━━━━━━━━━━━━━━━━━━━━━━━━━━┳━━━━━━━━━━━━━━━━━━━━━━━━━━━━━┳━━━━━━━━━━━━━━━━━┓\n",
       "┃\u001b[1m \u001b[0m\u001b[1mLayer (type)                        \u001b[0m\u001b[1m \u001b[0m┃\u001b[1m \u001b[0m\u001b[1mOutput Shape               \u001b[0m\u001b[1m \u001b[0m┃\u001b[1m \u001b[0m\u001b[1m        Param #\u001b[0m\u001b[1m \u001b[0m┃\n",
       "┡━━━━━━━━━━━━━━━━━━━━━━━━━━━━━━━━━━━━━━╇━━━━━━━━━━━━━━━━━━━━━━━━━━━━━╇━━━━━━━━━━━━━━━━━┩\n",
       "│ dense_21 (\u001b[38;5;33mDense\u001b[0m)                     │ (\u001b[38;5;45mNone\u001b[0m, \u001b[38;5;34m6\u001b[0m)                   │              \u001b[38;5;34m54\u001b[0m │\n",
       "├──────────────────────────────────────┼─────────────────────────────┼─────────────────┤\n",
       "│ dense_22 (\u001b[38;5;33mDense\u001b[0m)                     │ (\u001b[38;5;45mNone\u001b[0m, \u001b[38;5;34m6\u001b[0m)                   │              \u001b[38;5;34m42\u001b[0m │\n",
       "├──────────────────────────────────────┼─────────────────────────────┼─────────────────┤\n",
       "│ dense_23 (\u001b[38;5;33mDense\u001b[0m)                     │ (\u001b[38;5;45mNone\u001b[0m, \u001b[38;5;34m1\u001b[0m)                   │               \u001b[38;5;34m7\u001b[0m │\n",
       "└──────────────────────────────────────┴─────────────────────────────┴─────────────────┘\n"
      ]
     },
     "metadata": {},
     "output_type": "display_data"
    },
    {
     "data": {
      "text/html": [
       "<pre style=\"white-space:pre;overflow-x:auto;line-height:normal;font-family:Menlo,'DejaVu Sans Mono',consolas,'Courier New',monospace\"><span style=\"font-weight: bold\"> Total params: </span><span style=\"color: #00af00; text-decoration-color: #00af00\">311</span> (1.22 KB)\n",
       "</pre>\n"
      ],
      "text/plain": [
       "\u001b[1m Total params: \u001b[0m\u001b[38;5;34m311\u001b[0m (1.22 KB)\n"
      ]
     },
     "metadata": {},
     "output_type": "display_data"
    },
    {
     "data": {
      "text/html": [
       "<pre style=\"white-space:pre;overflow-x:auto;line-height:normal;font-family:Menlo,'DejaVu Sans Mono',consolas,'Courier New',monospace\"><span style=\"font-weight: bold\"> Trainable params: </span><span style=\"color: #00af00; text-decoration-color: #00af00\">103</span> (412.00 B)\n",
       "</pre>\n"
      ],
      "text/plain": [
       "\u001b[1m Trainable params: \u001b[0m\u001b[38;5;34m103\u001b[0m (412.00 B)\n"
      ]
     },
     "metadata": {},
     "output_type": "display_data"
    },
    {
     "data": {
      "text/html": [
       "<pre style=\"white-space:pre;overflow-x:auto;line-height:normal;font-family:Menlo,'DejaVu Sans Mono',consolas,'Courier New',monospace\"><span style=\"font-weight: bold\"> Non-trainable params: </span><span style=\"color: #00af00; text-decoration-color: #00af00\">0</span> (0.00 B)\n",
       "</pre>\n"
      ],
      "text/plain": [
       "\u001b[1m Non-trainable params: \u001b[0m\u001b[38;5;34m0\u001b[0m (0.00 B)\n"
      ]
     },
     "metadata": {},
     "output_type": "display_data"
    },
    {
     "data": {
      "text/html": [
       "<pre style=\"white-space:pre;overflow-x:auto;line-height:normal;font-family:Menlo,'DejaVu Sans Mono',consolas,'Courier New',monospace\"><span style=\"font-weight: bold\"> Optimizer params: </span><span style=\"color: #00af00; text-decoration-color: #00af00\">208</span> (836.00 B)\n",
       "</pre>\n"
      ],
      "text/plain": [
       "\u001b[1m Optimizer params: \u001b[0m\u001b[38;5;34m208\u001b[0m (836.00 B)\n"
      ]
     },
     "metadata": {},
     "output_type": "display_data"
    },
    {
     "name": "stdout",
     "output_type": "stream",
     "text": [
      "for testing:\n",
      "\u001b[1m92/92\u001b[0m \u001b[32m━━━━━━━━━━━━━━━━━━━━\u001b[0m\u001b[37m\u001b[0m \u001b[1m0s\u001b[0m 2ms/step\n",
      "Mean square error: 828101770.5767815\n",
      "Mean absolute error: 3140.1031943978182\n",
      "Root mean square error: 28776.757471556477\n",
      "R2 score: 0.003259599208831787\n"
     ]
    }
   ],
   "source": [
    "#Neural Network\n",
    "from tensorflow import keras\n",
    "from keras.layers import Dense\n",
    "\n",
    "ann= keras.models.Sequential([\n",
    "    Dense(6,activation='relu',\n",
    "          input_shape=feature_train.shape[1:]),\n",
    "    Dense(6,activation='relu'), Dense(1)])\n",
    "\n",
    "optimizer=keras.optimizers.Adam()\n",
    "loss=keras.losses.MeanSquaredError()\n",
    "ann.compile(optimizer=optimizer,loss=loss,metrics=[\"mean_squared_error\"])\n",
    "history=ann.fit(feature_train,target_train,epochs=100)\n",
    "ann.summary()\n",
    "print(\"for testing:\")\n",
    "model_prediction(feature_test,target_test,ann)"
   ]
  },
  {
   "cell_type": "markdown",
   "id": "150ea36c-1df5-4529-a352-a49ca41e846f",
   "metadata": {},
   "source": [
    "Saving the best model"
   ]
  },
  {
   "cell_type": "code",
   "execution_count": 243,
   "id": "6ee82b6f-e8fa-4695-8562-80914ed5801c",
   "metadata": {},
   "outputs": [
    {
     "name": "stderr",
     "output_type": "stream",
     "text": [
      "WARNING:absl:You are saving your model as an HDF5 file via `model.save()` or `keras.saving.save_model(model)`. This file format is considered legacy. We recommend using instead the native Keras format, e.g. `model.save('my_model.keras')` or `keras.saving.save_model(model, 'my_model.keras')`. \n"
     ]
    }
   ],
   "source": [
    "import joblib\n",
    "\n",
    "joblib.dump(forest_model,\"randomforest_adview.pkl\")\n",
    "\n",
    "#saving artificial neural network model\n",
    "\n",
    "ann.save(\"ann_youtubeadview.h5\")"
   ]
  },
  {
   "cell_type": "code",
   "execution_count": 239,
   "id": "933183e5-6af3-4ab3-a5de-7dfb5065df3e",
   "metadata": {},
   "outputs": [],
   "source": [
    "import joblib\n",
    "\n",
    "rmodel=joblib.load(\"decisiontree_adview.pkl\")"
   ]
  },
  {
   "cell_type": "code",
   "execution_count": 241,
   "id": "b2fe6403-24e6-4361-b727-90af81182e3f",
   "metadata": {},
   "outputs": [
    {
     "data": {
      "text/plain": [
       "array([21.37,  7.85,  5.59, ...,  5.25,  5.88, 16.22])"
      ]
     },
     "execution_count": 241,
     "metadata": {},
     "output_type": "execute_result"
    }
   ],
   "source": [
    "rmodel.predict(feature_test)"
   ]
  },
  {
   "cell_type": "code",
   "execution_count": 242,
   "id": "5a36357b-4e67-4d0e-a63b-f5f2bb1f39a8",
   "metadata": {},
   "outputs": [
    {
     "data": {
      "text/plain": [
       "(2928, 7)"
      ]
     },
     "execution_count": 242,
     "metadata": {},
     "output_type": "execute_result"
    }
   ],
   "source": [
    "feature_test.shape"
   ]
  }
 ],
 "metadata": {
  "kernelspec": {
   "display_name": "Python 3 (ipykernel)",
   "language": "python",
   "name": "python3"
  },
  "language_info": {
   "codemirror_mode": {
    "name": "ipython",
    "version": 3
   },
   "file_extension": ".py",
   "mimetype": "text/x-python",
   "name": "python",
   "nbconvert_exporter": "python",
   "pygments_lexer": "ipython3",
   "version": "3.12.1"
  }
 },
 "nbformat": 4,
 "nbformat_minor": 5
}
